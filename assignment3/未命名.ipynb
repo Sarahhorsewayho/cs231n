{
 "cells": [
  {
   "cell_type": "code",
   "execution_count": 5,
   "metadata": {},
   "outputs": [
    {
     "name": "stdout",
     "output_type": "stream",
     "text": [
      "[[ 3.  2.  4.  1.  0.  3.]\n",
      " [ 1.  3.  2.  6.  2.  2.]\n",
      " [ 5.  1.  3.  3.  3.  2.]\n",
      " [ 3.  0.  4.  3.  0.  1.]\n",
      " [ 7.  4.  1.  4. 13. 14.]]\n"
     ]
    }
   ],
   "source": [
    "import numpy as np\n",
    "x = np.array([[0, 4, 1],\n",
    "             [3, 2, 4]])\n",
    "dW = np.zeros((5, 6))\n",
    "dout = np.array([[[3, 2, 4, 1, 0, 3],\n",
    "                 [5, 3, 0, 4, 5, 7],\n",
    "                 [1, 3, 2, 6, 2, 2]],\n",
    "                [[3, 0, 4, 3, 0, 1],\n",
    "                 [5, 1, 3, 3, 3, 2],\n",
    "                [2, 1, 1, 0, 8, 7]]])\n",
    "np.add.at(dW, x, dout)\n",
    "print(dW)"
   ]
  },
  {
   "cell_type": "code",
   "execution_count": null,
   "metadata": {},
   "outputs": [],
   "source": []
  }
 ],
 "metadata": {
  "kernelspec": {
   "display_name": "root",
   "language": "python",
   "name": "root"
  },
  "language_info": {
   "codemirror_mode": {
    "name": "ipython",
    "version": 3
   },
   "file_extension": ".py",
   "mimetype": "text/x-python",
   "name": "python",
   "nbconvert_exporter": "python",
   "pygments_lexer": "ipython3",
   "version": "3.6.8"
  }
 },
 "nbformat": 4,
 "nbformat_minor": 2
}
